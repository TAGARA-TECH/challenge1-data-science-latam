{
 "cells": [
  {
   "cell_type": "markdown",
   "id": "3c8250e6",
   "metadata": {},
   "source": [
    "# 🛍️ Análisis de Datos - Alura Store\n",
    "\n",
    "**Desafío del programa ONE - Oracle + Alura LATAM 2025**  \n",
    "Autor: [Tu nombre o GitHub]\n",
    "\n",
    "En este notebook analizamos los datos de las 4 tiendas de Alura Store para ayudar al Sr. Juan a decidir cuál vender para iniciar un nuevo proyecto."
   ]
  },
  {
   "cell_type": "code",
   "execution_count": null,
   "id": "f0189a79",
   "metadata": {},
   "outputs": [],
   "source": [
    "import pandas as pd\n",
    "import matplotlib.pyplot as plt\n",
    "\n",
    "plt.style.use('seaborn')\n",
    "%matplotlib inline"
   ]
  },
  {
   "cell_type": "code",
   "execution_count": null,
   "id": "f62c6302",
   "metadata": {},
   "outputs": [],
   "source": [
    "# Cargar archivos CSV\n",
    "df = pd.read_csv('/path/to/archivo.csv')  # Cambiar por tu ruta real\n",
    "\n",
    "df.head()"
   ]
  },
  {
   "cell_type": "markdown",
   "id": "885e8f79",
   "metadata": {},
   "source": [
    "## 🔍 Exploración de los datos\n",
    "- Cantidad de filas y columnas\n",
    "- Tipos de datos\n",
    "- Valores faltantes"
   ]
  },
  {
   "cell_type": "code",
   "execution_count": null,
   "id": "7c7d486c",
   "metadata": {},
   "outputs": [],
   "source": [
    "print(f\"Filas y columnas: {df.shape}\")\n",
    "print(df.dtypes)\n",
    "print(df.isnull().sum())"
   ]
  },
  {
   "cell_type": "markdown",
   "id": "06084172",
   "metadata": {},
   "source": [
    "## 📊 Análisis de rendimiento por tienda\n",
    "- Ingresos totales\n",
    "- Calificación promedio\n",
    "- Tiempo promedio de entrega"
   ]
  },
  {
   "cell_type": "code",
   "execution_count": null,
   "id": "d3b3d978",
   "metadata": {},
   "outputs": [],
   "source": [
    "df['ingresos'] = df['precio'] * df['cantidad']\n",
    "ingresos_tienda = df.groupby('tienda')['ingresos'].sum().sort_values(ascending=False)\n",
    "ingresos_tienda"
   ]
  },
  {
   "cell_type": "markdown",
   "id": "91cd0760",
   "metadata": {},
   "source": [
    "## 📉 Visualización de datos\n",
    "- Gráfico de barras: ingresos por tienda\n",
    "- Gráfico de torta: distribución por categoría\n",
    "- Diagrama de dispersión: puntuación vs ventas"
   ]
  },
  {
   "cell_type": "code",
   "execution_count": null,
   "id": "f6156d48",
   "metadata": {},
   "outputs": [],
   "source": [
    "ingresos_tienda.plot(kind='bar', title='Ingresos por tienda', color='skyblue')\n",
    "plt.ylabel('Ingresos totales')\n",
    "plt.xlabel('Tienda')\n",
    "plt.show()"
   ]
  },
  {
   "cell_type": "markdown",
   "id": "61cceb27",
   "metadata": {},
   "source": [
    "# ✅ Recomendación final\n",
    "\n",
    "Tras analizar ingresos, categorías, opiniones de los clientes y rendimiento logístico, se concluye que la tienda **[X]** es la menos eficiente y debería ser considerada para su venta.\n",
    "\n",
    "**Motivos principales:**\n",
    "- Ingresos por debajo del promedio.\n",
    "- Baja calificación de los clientes.\n",
    "- Alto tiempo de entrega.\n",
    "\n",
    "Este análisis permite tomar una decisión basada en datos concretos y objetivos."
   ]
  }
 ],
 "metadata": {},
 "nbformat": 4,
 "nbformat_minor": 5
}
